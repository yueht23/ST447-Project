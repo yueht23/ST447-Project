{
 "cells": [
  {
   "cell_type": "code",
   "execution_count": 1,
   "id": "initial_id",
   "metadata": {
    "collapsed": true,
    "ExecuteTime": {
     "end_time": "2023-11-25T22:08:04.600918300Z",
     "start_time": "2023-11-25T22:08:03.572389800Z"
    }
   },
   "outputs": [],
   "source": [
    "import pandas as pd"
   ]
  },
  {
   "cell_type": "code",
   "execution_count": 2,
   "outputs": [
    {
     "data": {
      "text/plain": "       Unnamed: 0                   Location  Gender  Age   pRate21   pRate20  \\\n0               1             Aberdeen North    Male   17  0.573643  0.643357   \n1               2             Aberdeen North    Male   18  0.481818  0.600000   \n2               3             Aberdeen North    Male   19  0.523438  0.591837   \n3               4             Aberdeen North    Male   20  0.512605  0.679487   \n4               5             Aberdeen North    Male   21  0.433962  0.550725   \n...           ...                        ...     ...  ...       ...       ...   \n10935       16404  ZZWellingborough (closed)    Male   24       NaN       NaN   \n10936       16405  ZZWellingborough (closed)  Female   19       NaN       NaN   \n10937       16407  ZZWellingborough (closed)  Female   20       NaN       NaN   \n10938       16408  ZZWellingborough (closed)  Female   23       NaN       NaN   \n10939       16410  ZZWellingborough (closed)  Female   18       NaN       NaN   \n\n        pRate19   pRate18   pRate17   pRate16  ...  schools25Km  bstop1Km  \\\n0      0.689076  0.625000       NaN  0.705729  ...            2       100   \n1      0.586207  0.568627  0.567073  0.602041  ...            2       100   \n2      0.558824  0.488636  0.638095  0.672414  ...            2       100   \n3      0.440000  0.570000  0.619565  0.548077  ...            2       100   \n4      0.769231  0.588235  0.578947  0.571429  ...            2       100   \n...         ...       ...       ...       ...  ...          ...       ...   \n10935       NaN       NaN       NaN       NaN  ...          197        65   \n10936       NaN       NaN       NaN       NaN  ...          197        65   \n10937       NaN       NaN       NaN       NaN  ...          197        65   \n10938       NaN       NaN       NaN       NaN  ...          197        65   \n10939       NaN       NaN       NaN       NaN  ...          197        65   \n\n       bstop5Km  bstop10Km  bstop15Km  bstop20Km  bstop25Km       fit  \\\n0           944       1364       1595       1676       1969  0.601601   \n1           944       1364       1595       1676       1969  0.533794   \n2           944       1364       1595       1676       1969  0.540842   \n3           944       1364       1595       1676       1969  0.512671   \n4           944       1364       1595       1676       1969  0.547497   \n...         ...        ...        ...        ...        ...       ...   \n10935      1240       4227       8550      13302      18874       NaN   \n10936      1240       4227       8550      13302      18874       NaN   \n10937      1240       4227       8550      13302      18874       NaN   \n10938      1240       4227       8550      13302      18874       NaN   \n10939      1240       4227       8550      13302      18874       NaN   \n\n            lwr       upr  \n0      0.432406  0.770796  \n1      0.364652  0.702937  \n2      0.371752  0.709933  \n3      0.343535  0.681807  \n4      0.378060  0.716934  \n...         ...       ...  \n10935       NaN       NaN  \n10936       NaN       NaN  \n10937       NaN       NaN  \n10938       NaN       NaN  \n10939       NaN       NaN  \n\n[10940 rows x 87 columns]",
      "text/html": "<div>\n<style scoped>\n    .dataframe tbody tr th:only-of-type {\n        vertical-align: middle;\n    }\n\n    .dataframe tbody tr th {\n        vertical-align: top;\n    }\n\n    .dataframe thead th {\n        text-align: right;\n    }\n</style>\n<table border=\"1\" class=\"dataframe\">\n  <thead>\n    <tr style=\"text-align: right;\">\n      <th></th>\n      <th>Unnamed: 0</th>\n      <th>Location</th>\n      <th>Gender</th>\n      <th>Age</th>\n      <th>pRate21</th>\n      <th>pRate20</th>\n      <th>pRate19</th>\n      <th>pRate18</th>\n      <th>pRate17</th>\n      <th>pRate16</th>\n      <th>...</th>\n      <th>schools25Km</th>\n      <th>bstop1Km</th>\n      <th>bstop5Km</th>\n      <th>bstop10Km</th>\n      <th>bstop15Km</th>\n      <th>bstop20Km</th>\n      <th>bstop25Km</th>\n      <th>fit</th>\n      <th>lwr</th>\n      <th>upr</th>\n    </tr>\n  </thead>\n  <tbody>\n    <tr>\n      <th>0</th>\n      <td>1</td>\n      <td>Aberdeen North</td>\n      <td>Male</td>\n      <td>17</td>\n      <td>0.573643</td>\n      <td>0.643357</td>\n      <td>0.689076</td>\n      <td>0.625000</td>\n      <td>NaN</td>\n      <td>0.705729</td>\n      <td>...</td>\n      <td>2</td>\n      <td>100</td>\n      <td>944</td>\n      <td>1364</td>\n      <td>1595</td>\n      <td>1676</td>\n      <td>1969</td>\n      <td>0.601601</td>\n      <td>0.432406</td>\n      <td>0.770796</td>\n    </tr>\n    <tr>\n      <th>1</th>\n      <td>2</td>\n      <td>Aberdeen North</td>\n      <td>Male</td>\n      <td>18</td>\n      <td>0.481818</td>\n      <td>0.600000</td>\n      <td>0.586207</td>\n      <td>0.568627</td>\n      <td>0.567073</td>\n      <td>0.602041</td>\n      <td>...</td>\n      <td>2</td>\n      <td>100</td>\n      <td>944</td>\n      <td>1364</td>\n      <td>1595</td>\n      <td>1676</td>\n      <td>1969</td>\n      <td>0.533794</td>\n      <td>0.364652</td>\n      <td>0.702937</td>\n    </tr>\n    <tr>\n      <th>2</th>\n      <td>3</td>\n      <td>Aberdeen North</td>\n      <td>Male</td>\n      <td>19</td>\n      <td>0.523438</td>\n      <td>0.591837</td>\n      <td>0.558824</td>\n      <td>0.488636</td>\n      <td>0.638095</td>\n      <td>0.672414</td>\n      <td>...</td>\n      <td>2</td>\n      <td>100</td>\n      <td>944</td>\n      <td>1364</td>\n      <td>1595</td>\n      <td>1676</td>\n      <td>1969</td>\n      <td>0.540842</td>\n      <td>0.371752</td>\n      <td>0.709933</td>\n    </tr>\n    <tr>\n      <th>3</th>\n      <td>4</td>\n      <td>Aberdeen North</td>\n      <td>Male</td>\n      <td>20</td>\n      <td>0.512605</td>\n      <td>0.679487</td>\n      <td>0.440000</td>\n      <td>0.570000</td>\n      <td>0.619565</td>\n      <td>0.548077</td>\n      <td>...</td>\n      <td>2</td>\n      <td>100</td>\n      <td>944</td>\n      <td>1364</td>\n      <td>1595</td>\n      <td>1676</td>\n      <td>1969</td>\n      <td>0.512671</td>\n      <td>0.343535</td>\n      <td>0.681807</td>\n    </tr>\n    <tr>\n      <th>4</th>\n      <td>5</td>\n      <td>Aberdeen North</td>\n      <td>Male</td>\n      <td>21</td>\n      <td>0.433962</td>\n      <td>0.550725</td>\n      <td>0.769231</td>\n      <td>0.588235</td>\n      <td>0.578947</td>\n      <td>0.571429</td>\n      <td>...</td>\n      <td>2</td>\n      <td>100</td>\n      <td>944</td>\n      <td>1364</td>\n      <td>1595</td>\n      <td>1676</td>\n      <td>1969</td>\n      <td>0.547497</td>\n      <td>0.378060</td>\n      <td>0.716934</td>\n    </tr>\n    <tr>\n      <th>...</th>\n      <td>...</td>\n      <td>...</td>\n      <td>...</td>\n      <td>...</td>\n      <td>...</td>\n      <td>...</td>\n      <td>...</td>\n      <td>...</td>\n      <td>...</td>\n      <td>...</td>\n      <td>...</td>\n      <td>...</td>\n      <td>...</td>\n      <td>...</td>\n      <td>...</td>\n      <td>...</td>\n      <td>...</td>\n      <td>...</td>\n      <td>...</td>\n      <td>...</td>\n      <td>...</td>\n    </tr>\n    <tr>\n      <th>10935</th>\n      <td>16404</td>\n      <td>ZZWellingborough (closed)</td>\n      <td>Male</td>\n      <td>24</td>\n      <td>NaN</td>\n      <td>NaN</td>\n      <td>NaN</td>\n      <td>NaN</td>\n      <td>NaN</td>\n      <td>NaN</td>\n      <td>...</td>\n      <td>197</td>\n      <td>65</td>\n      <td>1240</td>\n      <td>4227</td>\n      <td>8550</td>\n      <td>13302</td>\n      <td>18874</td>\n      <td>NaN</td>\n      <td>NaN</td>\n      <td>NaN</td>\n    </tr>\n    <tr>\n      <th>10936</th>\n      <td>16405</td>\n      <td>ZZWellingborough (closed)</td>\n      <td>Female</td>\n      <td>19</td>\n      <td>NaN</td>\n      <td>NaN</td>\n      <td>NaN</td>\n      <td>NaN</td>\n      <td>NaN</td>\n      <td>NaN</td>\n      <td>...</td>\n      <td>197</td>\n      <td>65</td>\n      <td>1240</td>\n      <td>4227</td>\n      <td>8550</td>\n      <td>13302</td>\n      <td>18874</td>\n      <td>NaN</td>\n      <td>NaN</td>\n      <td>NaN</td>\n    </tr>\n    <tr>\n      <th>10937</th>\n      <td>16407</td>\n      <td>ZZWellingborough (closed)</td>\n      <td>Female</td>\n      <td>20</td>\n      <td>NaN</td>\n      <td>NaN</td>\n      <td>NaN</td>\n      <td>NaN</td>\n      <td>NaN</td>\n      <td>NaN</td>\n      <td>...</td>\n      <td>197</td>\n      <td>65</td>\n      <td>1240</td>\n      <td>4227</td>\n      <td>8550</td>\n      <td>13302</td>\n      <td>18874</td>\n      <td>NaN</td>\n      <td>NaN</td>\n      <td>NaN</td>\n    </tr>\n    <tr>\n      <th>10938</th>\n      <td>16408</td>\n      <td>ZZWellingborough (closed)</td>\n      <td>Female</td>\n      <td>23</td>\n      <td>NaN</td>\n      <td>NaN</td>\n      <td>NaN</td>\n      <td>NaN</td>\n      <td>NaN</td>\n      <td>NaN</td>\n      <td>...</td>\n      <td>197</td>\n      <td>65</td>\n      <td>1240</td>\n      <td>4227</td>\n      <td>8550</td>\n      <td>13302</td>\n      <td>18874</td>\n      <td>NaN</td>\n      <td>NaN</td>\n      <td>NaN</td>\n    </tr>\n    <tr>\n      <th>10939</th>\n      <td>16410</td>\n      <td>ZZWellingborough (closed)</td>\n      <td>Female</td>\n      <td>18</td>\n      <td>NaN</td>\n      <td>NaN</td>\n      <td>NaN</td>\n      <td>NaN</td>\n      <td>NaN</td>\n      <td>NaN</td>\n      <td>...</td>\n      <td>197</td>\n      <td>65</td>\n      <td>1240</td>\n      <td>4227</td>\n      <td>8550</td>\n      <td>13302</td>\n      <td>18874</td>\n      <td>NaN</td>\n      <td>NaN</td>\n      <td>NaN</td>\n    </tr>\n  </tbody>\n</table>\n<p>10940 rows × 87 columns</p>\n</div>"
     },
     "execution_count": 2,
     "metadata": {},
     "output_type": "execute_result"
    }
   ],
   "source": [
    "df = pd.read_csv('./Dataset/data_pridicted.csv')\n",
    "df"
   ],
   "metadata": {
    "collapsed": false,
    "ExecuteTime": {
     "end_time": "2023-11-25T22:08:25.873082100Z",
     "start_time": "2023-11-25T22:08:25.719636200Z"
    }
   },
   "id": "b091c7076f3450e5"
  },
  {
   "cell_type": "code",
   "execution_count": 20,
   "outputs": [
    {
     "data": {
      "text/plain": "       Unnamed: 0                   Location  Gender  Age   pRate21   pRate20  \\\n0               1             Aberdeen North    Male   17  0.573643  0.643357   \n1               2             Aberdeen North    Male   18  0.481818  0.600000   \n2               3             Aberdeen North    Male   19  0.523438  0.591837   \n3               4             Aberdeen North    Male   20  0.512605  0.679487   \n4               5             Aberdeen North    Male   21  0.433962  0.550725   \n...           ...                        ...     ...  ...       ...       ...   \n10935       16404  ZZWellingborough (closed)    Male   24       NaN       NaN   \n10936       16405  ZZWellingborough (closed)  Female   19       NaN       NaN   \n10937       16407  ZZWellingborough (closed)  Female   20       NaN       NaN   \n10938       16408  ZZWellingborough (closed)  Female   23       NaN       NaN   \n10939       16410  ZZWellingborough (closed)  Female   18       NaN       NaN   \n\n        pRate19   pRate18   pRate17   pRate16  ...  bstop1Km  bstop5Km  \\\n0      0.689076  0.625000       NaN  0.705729  ...       100       944   \n1      0.586207  0.568627  0.567073  0.602041  ...       100       944   \n2      0.558824  0.488636  0.638095  0.672414  ...       100       944   \n3      0.440000  0.570000  0.619565  0.548077  ...       100       944   \n4      0.769231  0.588235  0.578947  0.571429  ...       100       944   \n...         ...       ...       ...       ...  ...       ...       ...   \n10935       NaN       NaN       NaN       NaN  ...        65      1240   \n10936       NaN       NaN       NaN       NaN  ...        65      1240   \n10937       NaN       NaN       NaN       NaN  ...        65      1240   \n10938       NaN       NaN       NaN       NaN  ...        65      1240   \n10939       NaN       NaN       NaN       NaN  ...        65      1240   \n\n       bstop10Km  bstop15Km  bstop20Km  bstop25Km       fit       lwr  \\\n0           1364       1595       1676       1969  0.601601  0.432406   \n1           1364       1595       1676       1969  0.533794  0.364652   \n2           1364       1595       1676       1969  0.540842  0.371752   \n3           1364       1595       1676       1969  0.512671  0.343535   \n4           1364       1595       1676       1969  0.547497  0.378060   \n...          ...        ...        ...        ...       ...       ...   \n10935       4227       8550      13302      18874       NaN       NaN   \n10936       4227       8550      13302      18874       NaN       NaN   \n10937       4227       8550      13302      18874       NaN       NaN   \n10938       4227       8550      13302      18874       NaN       NaN   \n10939       4227       8550      13302      18874       NaN       NaN   \n\n            upr    distance  \n0      0.770796  648.239760  \n1      0.702937  648.239760  \n2      0.709933  648.239760  \n3      0.681807  648.239760  \n4      0.716934  648.239760  \n...         ...         ...  \n10935       NaN   44.688516  \n10936       NaN   44.688516  \n10937       NaN   44.688516  \n10938       NaN   44.688516  \n10939       NaN   44.688516  \n\n[10940 rows x 88 columns]",
      "text/html": "<div>\n<style scoped>\n    .dataframe tbody tr th:only-of-type {\n        vertical-align: middle;\n    }\n\n    .dataframe tbody tr th {\n        vertical-align: top;\n    }\n\n    .dataframe thead th {\n        text-align: right;\n    }\n</style>\n<table border=\"1\" class=\"dataframe\">\n  <thead>\n    <tr style=\"text-align: right;\">\n      <th></th>\n      <th>Unnamed: 0</th>\n      <th>Location</th>\n      <th>Gender</th>\n      <th>Age</th>\n      <th>pRate21</th>\n      <th>pRate20</th>\n      <th>pRate19</th>\n      <th>pRate18</th>\n      <th>pRate17</th>\n      <th>pRate16</th>\n      <th>...</th>\n      <th>bstop1Km</th>\n      <th>bstop5Km</th>\n      <th>bstop10Km</th>\n      <th>bstop15Km</th>\n      <th>bstop20Km</th>\n      <th>bstop25Km</th>\n      <th>fit</th>\n      <th>lwr</th>\n      <th>upr</th>\n      <th>distance</th>\n    </tr>\n  </thead>\n  <tbody>\n    <tr>\n      <th>0</th>\n      <td>1</td>\n      <td>Aberdeen North</td>\n      <td>Male</td>\n      <td>17</td>\n      <td>0.573643</td>\n      <td>0.643357</td>\n      <td>0.689076</td>\n      <td>0.625000</td>\n      <td>NaN</td>\n      <td>0.705729</td>\n      <td>...</td>\n      <td>100</td>\n      <td>944</td>\n      <td>1364</td>\n      <td>1595</td>\n      <td>1676</td>\n      <td>1969</td>\n      <td>0.601601</td>\n      <td>0.432406</td>\n      <td>0.770796</td>\n      <td>648.239760</td>\n    </tr>\n    <tr>\n      <th>1</th>\n      <td>2</td>\n      <td>Aberdeen North</td>\n      <td>Male</td>\n      <td>18</td>\n      <td>0.481818</td>\n      <td>0.600000</td>\n      <td>0.586207</td>\n      <td>0.568627</td>\n      <td>0.567073</td>\n      <td>0.602041</td>\n      <td>...</td>\n      <td>100</td>\n      <td>944</td>\n      <td>1364</td>\n      <td>1595</td>\n      <td>1676</td>\n      <td>1969</td>\n      <td>0.533794</td>\n      <td>0.364652</td>\n      <td>0.702937</td>\n      <td>648.239760</td>\n    </tr>\n    <tr>\n      <th>2</th>\n      <td>3</td>\n      <td>Aberdeen North</td>\n      <td>Male</td>\n      <td>19</td>\n      <td>0.523438</td>\n      <td>0.591837</td>\n      <td>0.558824</td>\n      <td>0.488636</td>\n      <td>0.638095</td>\n      <td>0.672414</td>\n      <td>...</td>\n      <td>100</td>\n      <td>944</td>\n      <td>1364</td>\n      <td>1595</td>\n      <td>1676</td>\n      <td>1969</td>\n      <td>0.540842</td>\n      <td>0.371752</td>\n      <td>0.709933</td>\n      <td>648.239760</td>\n    </tr>\n    <tr>\n      <th>3</th>\n      <td>4</td>\n      <td>Aberdeen North</td>\n      <td>Male</td>\n      <td>20</td>\n      <td>0.512605</td>\n      <td>0.679487</td>\n      <td>0.440000</td>\n      <td>0.570000</td>\n      <td>0.619565</td>\n      <td>0.548077</td>\n      <td>...</td>\n      <td>100</td>\n      <td>944</td>\n      <td>1364</td>\n      <td>1595</td>\n      <td>1676</td>\n      <td>1969</td>\n      <td>0.512671</td>\n      <td>0.343535</td>\n      <td>0.681807</td>\n      <td>648.239760</td>\n    </tr>\n    <tr>\n      <th>4</th>\n      <td>5</td>\n      <td>Aberdeen North</td>\n      <td>Male</td>\n      <td>21</td>\n      <td>0.433962</td>\n      <td>0.550725</td>\n      <td>0.769231</td>\n      <td>0.588235</td>\n      <td>0.578947</td>\n      <td>0.571429</td>\n      <td>...</td>\n      <td>100</td>\n      <td>944</td>\n      <td>1364</td>\n      <td>1595</td>\n      <td>1676</td>\n      <td>1969</td>\n      <td>0.547497</td>\n      <td>0.378060</td>\n      <td>0.716934</td>\n      <td>648.239760</td>\n    </tr>\n    <tr>\n      <th>...</th>\n      <td>...</td>\n      <td>...</td>\n      <td>...</td>\n      <td>...</td>\n      <td>...</td>\n      <td>...</td>\n      <td>...</td>\n      <td>...</td>\n      <td>...</td>\n      <td>...</td>\n      <td>...</td>\n      <td>...</td>\n      <td>...</td>\n      <td>...</td>\n      <td>...</td>\n      <td>...</td>\n      <td>...</td>\n      <td>...</td>\n      <td>...</td>\n      <td>...</td>\n      <td>...</td>\n    </tr>\n    <tr>\n      <th>10935</th>\n      <td>16404</td>\n      <td>ZZWellingborough (closed)</td>\n      <td>Male</td>\n      <td>24</td>\n      <td>NaN</td>\n      <td>NaN</td>\n      <td>NaN</td>\n      <td>NaN</td>\n      <td>NaN</td>\n      <td>NaN</td>\n      <td>...</td>\n      <td>65</td>\n      <td>1240</td>\n      <td>4227</td>\n      <td>8550</td>\n      <td>13302</td>\n      <td>18874</td>\n      <td>NaN</td>\n      <td>NaN</td>\n      <td>NaN</td>\n      <td>44.688516</td>\n    </tr>\n    <tr>\n      <th>10936</th>\n      <td>16405</td>\n      <td>ZZWellingborough (closed)</td>\n      <td>Female</td>\n      <td>19</td>\n      <td>NaN</td>\n      <td>NaN</td>\n      <td>NaN</td>\n      <td>NaN</td>\n      <td>NaN</td>\n      <td>NaN</td>\n      <td>...</td>\n      <td>65</td>\n      <td>1240</td>\n      <td>4227</td>\n      <td>8550</td>\n      <td>13302</td>\n      <td>18874</td>\n      <td>NaN</td>\n      <td>NaN</td>\n      <td>NaN</td>\n      <td>44.688516</td>\n    </tr>\n    <tr>\n      <th>10937</th>\n      <td>16407</td>\n      <td>ZZWellingborough (closed)</td>\n      <td>Female</td>\n      <td>20</td>\n      <td>NaN</td>\n      <td>NaN</td>\n      <td>NaN</td>\n      <td>NaN</td>\n      <td>NaN</td>\n      <td>NaN</td>\n      <td>...</td>\n      <td>65</td>\n      <td>1240</td>\n      <td>4227</td>\n      <td>8550</td>\n      <td>13302</td>\n      <td>18874</td>\n      <td>NaN</td>\n      <td>NaN</td>\n      <td>NaN</td>\n      <td>44.688516</td>\n    </tr>\n    <tr>\n      <th>10938</th>\n      <td>16408</td>\n      <td>ZZWellingborough (closed)</td>\n      <td>Female</td>\n      <td>23</td>\n      <td>NaN</td>\n      <td>NaN</td>\n      <td>NaN</td>\n      <td>NaN</td>\n      <td>NaN</td>\n      <td>NaN</td>\n      <td>...</td>\n      <td>65</td>\n      <td>1240</td>\n      <td>4227</td>\n      <td>8550</td>\n      <td>13302</td>\n      <td>18874</td>\n      <td>NaN</td>\n      <td>NaN</td>\n      <td>NaN</td>\n      <td>44.688516</td>\n    </tr>\n    <tr>\n      <th>10939</th>\n      <td>16410</td>\n      <td>ZZWellingborough (closed)</td>\n      <td>Female</td>\n      <td>18</td>\n      <td>NaN</td>\n      <td>NaN</td>\n      <td>NaN</td>\n      <td>NaN</td>\n      <td>NaN</td>\n      <td>NaN</td>\n      <td>...</td>\n      <td>65</td>\n      <td>1240</td>\n      <td>4227</td>\n      <td>8550</td>\n      <td>13302</td>\n      <td>18874</td>\n      <td>NaN</td>\n      <td>NaN</td>\n      <td>NaN</td>\n      <td>44.688516</td>\n    </tr>\n  </tbody>\n</table>\n<p>10940 rows × 88 columns</p>\n</div>"
     },
     "execution_count": 20,
     "metadata": {},
     "output_type": "execute_result"
    }
   ],
   "source": [
    "# find the lng,lat of the uxbridge\n",
    "uxlng,uxlat =  tuple(df[df['Location'] == 'Uxbridge (London)'].iloc[0][['lng','lat']])\n",
    "\n",
    "import geopy.distance\n",
    "\n",
    "\n",
    "# geopy.distance.geodesic((uxlng*1.,uxlat), (uxlng,uxlat)).km\n",
    "\n",
    "df['distance'] = df.apply(lambda x: geopy.distance.geodesic((uxlng,uxlat), (x['lng'],x['lat'])).km, axis=1)\n",
    "df"
   ],
   "metadata": {
    "collapsed": false,
    "ExecuteTime": {
     "end_time": "2023-11-25T22:26:21.048521500Z",
     "start_time": "2023-11-25T22:26:19.943987Z"
    }
   },
   "id": "161cac191e2d69d"
  },
  {
   "cell_type": "code",
   "execution_count": 37,
   "outputs": [
    {
     "data": {
      "text/plain": "               Location    distance       fit       lwr       upr\n7876  Uxbridge (London)    0.000000  0.565565  0.396436  0.734694\n7097    Slough (London)    8.445768  0.509208  0.340099  0.678317\n6435    Pinner (London)   10.409096  0.529642  0.360500  0.698784\n7176  Southall (London)   12.623843  0.483125  0.314024  0.652227\n8475   Yeading (London)   12.623843  0.547688  0.378459  0.716917\n...                 ...         ...       ...       ...       ...\n151              Alness  801.969390  0.576746  0.407414  0.746079\n8276               Wick  820.867904  0.592539  0.423330  0.761747\n6197             Orkney  872.309432  0.558498  0.389357  0.727640\n5041            Lerwick  961.627674  0.674305  0.504999  0.843611\n7506          Stornoway  986.879724  0.661721  0.492466  0.830976\n\n[282 rows x 5 columns]",
      "text/html": "<div>\n<style scoped>\n    .dataframe tbody tr th:only-of-type {\n        vertical-align: middle;\n    }\n\n    .dataframe tbody tr th {\n        vertical-align: top;\n    }\n\n    .dataframe thead th {\n        text-align: right;\n    }\n</style>\n<table border=\"1\" class=\"dataframe\">\n  <thead>\n    <tr style=\"text-align: right;\">\n      <th></th>\n      <th>Location</th>\n      <th>distance</th>\n      <th>fit</th>\n      <th>lwr</th>\n      <th>upr</th>\n    </tr>\n  </thead>\n  <tbody>\n    <tr>\n      <th>7876</th>\n      <td>Uxbridge (London)</td>\n      <td>0.000000</td>\n      <td>0.565565</td>\n      <td>0.396436</td>\n      <td>0.734694</td>\n    </tr>\n    <tr>\n      <th>7097</th>\n      <td>Slough (London)</td>\n      <td>8.445768</td>\n      <td>0.509208</td>\n      <td>0.340099</td>\n      <td>0.678317</td>\n    </tr>\n    <tr>\n      <th>6435</th>\n      <td>Pinner (London)</td>\n      <td>10.409096</td>\n      <td>0.529642</td>\n      <td>0.360500</td>\n      <td>0.698784</td>\n    </tr>\n    <tr>\n      <th>7176</th>\n      <td>Southall (London)</td>\n      <td>12.623843</td>\n      <td>0.483125</td>\n      <td>0.314024</td>\n      <td>0.652227</td>\n    </tr>\n    <tr>\n      <th>8475</th>\n      <td>Yeading (London)</td>\n      <td>12.623843</td>\n      <td>0.547688</td>\n      <td>0.378459</td>\n      <td>0.716917</td>\n    </tr>\n    <tr>\n      <th>...</th>\n      <td>...</td>\n      <td>...</td>\n      <td>...</td>\n      <td>...</td>\n      <td>...</td>\n    </tr>\n    <tr>\n      <th>151</th>\n      <td>Alness</td>\n      <td>801.969390</td>\n      <td>0.576746</td>\n      <td>0.407414</td>\n      <td>0.746079</td>\n    </tr>\n    <tr>\n      <th>8276</th>\n      <td>Wick</td>\n      <td>820.867904</td>\n      <td>0.592539</td>\n      <td>0.423330</td>\n      <td>0.761747</td>\n    </tr>\n    <tr>\n      <th>6197</th>\n      <td>Orkney</td>\n      <td>872.309432</td>\n      <td>0.558498</td>\n      <td>0.389357</td>\n      <td>0.727640</td>\n    </tr>\n    <tr>\n      <th>5041</th>\n      <td>Lerwick</td>\n      <td>961.627674</td>\n      <td>0.674305</td>\n      <td>0.504999</td>\n      <td>0.843611</td>\n    </tr>\n    <tr>\n      <th>7506</th>\n      <td>Stornoway</td>\n      <td>986.879724</td>\n      <td>0.661721</td>\n      <td>0.492466</td>\n      <td>0.830976</td>\n    </tr>\n  </tbody>\n</table>\n<p>282 rows × 5 columns</p>\n</div>"
     },
     "execution_count": 37,
     "metadata": {},
     "output_type": "execute_result"
    }
   ],
   "source": [
    "df_recommendation =  df.loc[(df[\"Gender\"]==\"Female\")&(df[\"Age\"]==18),[\"Location\",\"distance\",\"fit\",\"lwr\",\"upr\"]].sort_values(by=\"distance\",ascending=True).dropna()\n",
    "df_recommendation"
   ],
   "metadata": {
    "collapsed": false,
    "ExecuteTime": {
     "end_time": "2023-11-25T22:34:47.480055300Z",
     "start_time": "2023-11-25T22:34:47.467749100Z"
    }
   },
   "id": "c1467af3489f7d83"
  },
  {
   "cell_type": "code",
   "execution_count": 74,
   "outputs": [
    {
     "data": {
      "text/plain": "                     Location    distance       fit       lwr       upr  \\\n4614  Isleworth (Fleming Way)   17.911548  0.584858  0.415661  0.754054   \n2244               Chichester   85.193555  0.595413  0.426286  0.764540   \n6756                    Rugby  128.063375  0.599374  0.430241  0.768507   \n2636               Dorchester  239.047351  0.611613  0.442384  0.780842   \n4702  Kendal (Oxenholme Road)  396.300728  0.633292  0.464102  0.802481   \n5041                  Lerwick  961.627674  0.674305  0.504999  0.843611   \n\n      inrange  \n4614       20  \n2244      100  \n6756      200  \n2636      300  \n4702      400  \n5041     5000  ",
      "text/html": "<div>\n<style scoped>\n    .dataframe tbody tr th:only-of-type {\n        vertical-align: middle;\n    }\n\n    .dataframe tbody tr th {\n        vertical-align: top;\n    }\n\n    .dataframe thead th {\n        text-align: right;\n    }\n</style>\n<table border=\"1\" class=\"dataframe\">\n  <thead>\n    <tr style=\"text-align: right;\">\n      <th></th>\n      <th>Location</th>\n      <th>distance</th>\n      <th>fit</th>\n      <th>lwr</th>\n      <th>upr</th>\n      <th>inrange</th>\n    </tr>\n  </thead>\n  <tbody>\n    <tr>\n      <th>4614</th>\n      <td>Isleworth (Fleming Way)</td>\n      <td>17.911548</td>\n      <td>0.584858</td>\n      <td>0.415661</td>\n      <td>0.754054</td>\n      <td>20</td>\n    </tr>\n    <tr>\n      <th>2244</th>\n      <td>Chichester</td>\n      <td>85.193555</td>\n      <td>0.595413</td>\n      <td>0.426286</td>\n      <td>0.764540</td>\n      <td>100</td>\n    </tr>\n    <tr>\n      <th>6756</th>\n      <td>Rugby</td>\n      <td>128.063375</td>\n      <td>0.599374</td>\n      <td>0.430241</td>\n      <td>0.768507</td>\n      <td>200</td>\n    </tr>\n    <tr>\n      <th>2636</th>\n      <td>Dorchester</td>\n      <td>239.047351</td>\n      <td>0.611613</td>\n      <td>0.442384</td>\n      <td>0.780842</td>\n      <td>300</td>\n    </tr>\n    <tr>\n      <th>4702</th>\n      <td>Kendal (Oxenholme Road)</td>\n      <td>396.300728</td>\n      <td>0.633292</td>\n      <td>0.464102</td>\n      <td>0.802481</td>\n      <td>400</td>\n    </tr>\n    <tr>\n      <th>5041</th>\n      <td>Lerwick</td>\n      <td>961.627674</td>\n      <td>0.674305</td>\n      <td>0.504999</td>\n      <td>0.843611</td>\n      <td>5000</td>\n    </tr>\n  </tbody>\n</table>\n</div>"
     },
     "execution_count": 74,
     "metadata": {},
     "output_type": "execute_result"
    }
   ],
   "source": [
    "# df_recommendation.sort_values(by=[\"fit\",\"distance\"],ascending=True)\n",
    "# find the distance < 10km,100km,200km withe the best fit\n",
    "# df_recommendation.loc[df_recommendation[\"distance\"]<10].sort_values(by=[\"fit\",\"distance\"],ascending=True).head(10)\n",
    "the_best= []\n",
    "inrange = [20,100,200,300,400,5000]\n",
    "for distance in inrange:\n",
    "    # print(distance)\n",
    "    df_recommendation_temp = df_recommendation.loc[df_recommendation[\"distance\"]<distance].sort_values(by=[\"fit\"],ascending=False).head(1)\n",
    "    the_best.append(df_recommendation_temp)\n",
    "\n",
    "# concat the best fit\n",
    "df_best = pd.concat(the_best,axis=0)\n",
    "df_best[\"inrange\"] = inrange\n",
    "df_best"
   ],
   "metadata": {
    "collapsed": false,
    "ExecuteTime": {
     "end_time": "2023-11-26T10:22:24.619228Z",
     "start_time": "2023-11-26T10:22:24.593849600Z"
    }
   },
   "id": "46f58e30157e745c"
  },
  {
   "cell_type": "code",
   "execution_count": 78,
   "outputs": [],
   "source": [
    "df_best.to_csv(\"./Dataset/the_best_recommendation.csv\",index=False)"
   ],
   "metadata": {
    "collapsed": false,
    "ExecuteTime": {
     "end_time": "2023-11-26T10:22:52.035655200Z",
     "start_time": "2023-11-26T10:22:52.021552300Z"
    }
   },
   "id": "16549f55dbba1773"
  }
 ],
 "metadata": {
  "kernelspec": {
   "display_name": "Python 3",
   "language": "python",
   "name": "python3"
  },
  "language_info": {
   "codemirror_mode": {
    "name": "ipython",
    "version": 2
   },
   "file_extension": ".py",
   "mimetype": "text/x-python",
   "name": "python",
   "nbconvert_exporter": "python",
   "pygments_lexer": "ipython2",
   "version": "2.7.6"
  }
 },
 "nbformat": 4,
 "nbformat_minor": 5
}
